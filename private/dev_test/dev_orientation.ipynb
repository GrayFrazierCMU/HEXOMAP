{
 "cells": [
  {
   "cell_type": "markdown",
   "metadata": {},
   "source": [
    "# Overview\n",
    "\n",
    "This notebook is used for the development of the new orientation class that will function in place of FZfile.py and RotRep."
   ]
  },
  {
   "cell_type": "code",
   "execution_count": 1,
   "metadata": {},
   "outputs": [],
   "source": [
    "# import the functions that need to be migrated to the new classes\n",
    "\n",
    "import os\n",
    "import sys\n",
    "import numpy as np"
   ]
  },
  {
   "cell_type": "code",
   "execution_count": 2,
   "metadata": {},
   "outputs": [],
   "source": [
    "sys.path.append(\"../../\")"
   ]
  },
  {
   "cell_type": "code",
   "execution_count": 3,
   "metadata": {},
   "outputs": [],
   "source": [
    "from RotRep import Mat2Euler, Mat2EulerZXZ, Mat2EulerZXZVectorized \n",
    "from RotRep import EulerZXZ2Mat, EulerZXZ2MatVectorized\n",
    "from RotRep import Misorien2FZ1\n",
    "from RotRep import rod_from_quaternion\n",
    "from RotRep import Orien2FZ\n",
    "from RotRep import GetSymRotMat\n",
    "\n",
    "# from FZfile import generate_random_rot_mat\n",
    "# from FZfile import misorien"
   ]
  },
  {
   "cell_type": "markdown",
   "metadata": {},
   "source": [
    "The FZfile is somehow tied to pycuda, we have to come back for it later."
   ]
  },
  {
   "cell_type": "markdown",
   "metadata": {},
   "source": [
    "# Euler angles and (active) rotation matrix conversion\n",
    "\n",
    "The previous implementation is done directly between the two, now we need to add quaternion to the fold."
   ]
  },
  {
   "cell_type": "code",
   "execution_count": 8,
   "metadata": {},
   "outputs": [],
   "source": [
    "EulerZXZ2Mat??"
   ]
  },
  {
   "cell_type": "code",
   "execution_count": 4,
   "metadata": {},
   "outputs": [
    {
     "name": "stdout",
     "output_type": "stream",
     "text": [
      "[[ 0.70710678 -0.70710678  0.        ]\n",
      " [ 0.70710678  0.70710678 -0.        ]\n",
      " [ 0.          0.          1.        ]]\n"
     ]
    }
   ],
   "source": [
    "euler = np.radians([45, 0, 0])\n",
    "print(EulerZXZ2Mat(euler))"
   ]
  },
  {
   "cell_type": "code",
   "execution_count": 5,
   "metadata": {},
   "outputs": [],
   "source": [
    "from hexomap.orientation import Eulers"
   ]
  },
  {
   "cell_type": "code",
   "execution_count": 6,
   "metadata": {},
   "outputs": [
    {
     "name": "stdout",
     "output_type": "stream",
     "text": [
      "Eulers(phi1=0.7853981633974483, phi=0.0, phi2=0.0, in_radians=True, order='zxz', convention='Bunge')\n",
      "[[ 0.70710678 -0.70710678  0.        ]\n",
      " [ 0.70710678  0.70710678 -0.        ]\n",
      " [ 0.          0.          1.        ]]\n"
     ]
    }
   ],
   "source": [
    "e = Eulers(*euler)\n",
    "print(e)\n",
    "print(e.as_matrix)"
   ]
  },
  {
   "cell_type": "code",
   "execution_count": null,
   "metadata": {},
   "outputs": [],
   "source": []
  }
 ],
 "metadata": {
  "kernelspec": {
   "display_name": "Python 3",
   "language": "python",
   "name": "python3"
  },
  "language_info": {
   "codemirror_mode": {
    "name": "ipython",
    "version": 3
   },
   "file_extension": ".py",
   "mimetype": "text/x-python",
   "name": "python",
   "nbconvert_exporter": "python",
   "pygments_lexer": "ipython3",
   "version": "3.7.0"
  }
 },
 "nbformat": 4,
 "nbformat_minor": 2
}
