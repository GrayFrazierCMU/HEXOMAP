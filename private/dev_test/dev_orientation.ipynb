{
 "cells": [
  {
   "cell_type": "markdown",
   "metadata": {},
   "source": [
    "# Overview\n",
    "\n",
    "This notebook is used for the development of the new orientation class that will function in place of FZfile.py and RotRep."
   ]
  },
  {
   "cell_type": "code",
   "execution_count": 1,
   "metadata": {},
   "outputs": [],
   "source": [
    "# import the functions that need to be migrated to the new classes\n",
    "\n",
    "import os\n",
    "import sys\n",
    "import numpy as np\n",
    "\n",
    "from tqdm import tqdm_notebook\n",
    "from scipy.linalg import polar\n",
    "\n",
    "sys.path.append(\"../../\")"
   ]
  },
  {
   "cell_type": "code",
   "execution_count": 2,
   "metadata": {},
   "outputs": [],
   "source": [
    "from RotRep import Mat2EulerZXZ, Mat2EulerZXZVectorized \n",
    "from RotRep import EulerZXZ2Mat, EulerZXZ2MatVectorized\n",
    "\n",
    "from RotRep import Misorien2FZ1\n",
    "\n",
    "from RotRep import rod_from_quaternion\n",
    "from RotRep import Orien2FZ\n",
    "from RotRep import GetSymRotMat\n",
    "\n",
    "# from FZfile import generate_random_rot_mat\n",
    "# from FZfile import misorien"
   ]
  },
  {
   "cell_type": "code",
   "execution_count": 3,
   "metadata": {},
   "outputs": [],
   "source": [
    "from hexomap.orientation import Eulers\n",
    "from hexomap.orientation import Quaternion\n",
    "from hexomap.utility     import iszero\n",
    "from hexomap.utility     import isone"
   ]
  },
  {
   "cell_type": "markdown",
   "metadata": {},
   "source": [
    "The FZfile is somehow tied to pycuda, we have to come back for it later."
   ]
  },
  {
   "cell_type": "markdown",
   "metadata": {},
   "source": [
    "# Euler angles and (active) rotation matrix conversion\n",
    "\n",
    "The previous implementation is done directly between the two, now we need to add quaternion to the fold."
   ]
  },
  {
   "cell_type": "code",
   "execution_count": 3,
   "metadata": {},
   "outputs": [],
   "source": [
    "EulerZXZ2Mat??"
   ]
  },
  {
   "cell_type": "code",
   "execution_count": 4,
   "metadata": {},
   "outputs": [
    {
     "name": "stdout",
     "output_type": "stream",
     "text": [
      "[[ 0.36369141  0.08331575  0.9277861 ]\n",
      " [-0.85460473  0.42614345  0.29673643]\n",
      " [-0.37064715 -0.90081088  0.22618675]]\n"
     ]
    }
   ],
   "source": [
    "euler = [-1.26124505, -1.34263514, 0.39034601]\n",
    "print(EulerZXZ2Mat(euler))"
   ]
  },
  {
   "cell_type": "code",
   "execution_count": 5,
   "metadata": {},
   "outputs": [],
   "source": [
    "from hexomap.orientation import Eulers"
   ]
  },
  {
   "cell_type": "code",
   "execution_count": 6,
   "metadata": {},
   "outputs": [
    {
     "name": "stdout",
     "output_type": "stream",
     "text": [
      "Eulers(phi1=-1.26124505, phi=-1.34263514, phi2=0.39034601, in_radians=True, order='zxz', convention='Bunge')\n",
      "[[ 0.36369141  0.08331575  0.9277861 ]\n",
      " [-0.85460473  0.42614345  0.29673643]\n",
      " [-0.37064715 -0.90081088  0.22618675]]\n"
     ]
    }
   ],
   "source": [
    "e = Eulers(*euler)\n",
    "print(e)\n",
    "print(e.as_matrix)"
   ]
  },
  {
   "cell_type": "code",
   "execution_count": 7,
   "metadata": {},
   "outputs": [],
   "source": [
    "# quick test\n",
    "\n",
    "eulers = ((np.random.random(100*3)-0.5)*2*np.pi).reshape(100, 3)\n",
    "\n",
    "for me in eulers:\n",
    "    try:\n",
    "        np.testing.assert_allclose(EulerZXZ2Mat(me), Eulers(*me).as_matrix)\n",
    "    except:\n",
    "        print(\"error\")\n",
    "        print(me)\n",
    "        print(EulerZXZ2Mat(me))\n",
    "        print(Eulers(*me).as_matrix)\n"
   ]
  },
  {
   "cell_type": "code",
   "execution_count": 8,
   "metadata": {},
   "outputs": [],
   "source": [
    "EulerZXZ2MatVectorized??"
   ]
  },
  {
   "cell_type": "code",
   "execution_count": 12,
   "metadata": {},
   "outputs": [],
   "source": [
    "N = 10000\n",
    "\n",
    "eulers = ((np.random.random(N*3)-0.5)*2*np.pi).reshape(N, 3)"
   ]
  },
  {
   "cell_type": "code",
   "execution_count": 13,
   "metadata": {},
   "outputs": [
    {
     "name": "stdout",
     "output_type": "stream",
     "text": [
      "1.17 ms ± 10.1 µs per loop (mean ± std. dev. of 7 runs, 1000 loops each)\n"
     ]
    }
   ],
   "source": [
    "%%timeit\n",
    "\n",
    "m_old = EulerZXZ2MatVectorized(eulers)"
   ]
  },
  {
   "cell_type": "code",
   "execution_count": 14,
   "metadata": {},
   "outputs": [
    {
     "name": "stdout",
     "output_type": "stream",
     "text": [
      "1.2 ms ± 22.1 µs per loop (mean ± std. dev. of 7 runs, 1000 loops each)\n"
     ]
    }
   ],
   "source": [
    "%%timeit\n",
    "\n",
    "m_new = Eulers.eulers_to_matrices(eulers)"
   ]
  },
  {
   "cell_type": "code",
   "execution_count": 11,
   "metadata": {},
   "outputs": [],
   "source": [
    "np.testing.assert_allclose(m_old, m_new)"
   ]
  },
  {
   "cell_type": "code",
   "execution_count": 12,
   "metadata": {},
   "outputs": [],
   "source": [
    "Mat2EulerZXZ??"
   ]
  },
  {
   "cell_type": "code",
   "execution_count": 4,
   "metadata": {},
   "outputs": [],
   "source": [
    "# original method\n",
    "# euler -> matrix -> euler\n",
    "\n",
    "euler = np.radians([0, 0, 32])  # special case, also need to make sure that the single rotation is the last one.\n",
    "m = EulerZXZ2Mat(euler)\n",
    "\n",
    "np.testing.assert_allclose(euler, Mat2EulerZXZ(m))"
   ]
  },
  {
   "cell_type": "code",
   "execution_count": 5,
   "metadata": {},
   "outputs": [
    {
     "name": "stdout",
     "output_type": "stream",
     "text": [
      "Eulers(phi1=0.0, phi=0.0, phi2=0.5585053606381855, in_radians=True, order='zxz', convention='Bunge')\n",
      "Eulers(phi1=0.0, phi=0.0, phi2=0.5585053606381855, in_radians=True, order='zxz', convention='Bunge')\n"
     ]
    }
   ],
   "source": [
    "# new method\n",
    "\n",
    "euler = Eulers(*np.radians([0, 0, 32]))\n",
    "\n",
    "m = euler.as_matrix\n",
    "\n",
    "print(Eulers.from_matrix(m))\n",
    "print(euler)"
   ]
  },
  {
   "cell_type": "markdown",
   "metadata": {},
   "source": [
    "Both methods are self consistent, now need to make sure that both can get the same Euler angles from a random rotation matrix"
   ]
  },
  {
   "cell_type": "code",
   "execution_count": 13,
   "metadata": {},
   "outputs": [
    {
     "name": "stdout",
     "output_type": "stream",
     "text": [
      "[[ 0.1825966   0.97572875  0.12087964]\n",
      " [ 0.75865109 -0.21803073  0.61393088]\n",
      " [-0.62538548  0.02039622  0.78004935]]\n",
      "[[0.15624347 0.26898015 0.30354132]\n",
      " [0.26898015 0.82666703 0.24860005]\n",
      " [0.30354132 0.24860005 1.2425504 ]]\n"
     ]
    }
   ],
   "source": [
    "F = np.random.random(3*3).reshape(3,3)\n",
    "\n",
    "R, V = polar(F)\n",
    "\n",
    "print(R)\n",
    "print(V)"
   ]
  },
  {
   "cell_type": "code",
   "execution_count": 14,
   "metadata": {},
   "outputs": [
    {
     "name": "stdout",
     "output_type": "stream",
     "text": [
      "[2.94718489 0.67605164 4.74499126] [2.94718489 0.67605164 4.74499126]\n"
     ]
    }
   ],
   "source": [
    "euler_o = Mat2EulerZXZ(R)\n",
    "\n",
    "euler_n = Eulers.from_matrix(R).as_array\n",
    "\n",
    "print(np.array(euler_o)%(2*np.pi), euler_n)"
   ]
  },
  {
   "cell_type": "code",
   "execution_count": 4,
   "metadata": {},
   "outputs": [],
   "source": [
    "Mat2EulerZXZVectorized??"
   ]
  },
  {
   "cell_type": "code",
   "execution_count": 6,
   "metadata": {},
   "outputs": [
    {
     "name": "stdout",
     "output_type": "stream",
     "text": [
      "[[1.58458428 2.13042316 1.14246718]\n",
      " [2.02289707 1.9894906  1.22023214]\n",
      " [3.3984074  0.68974633 2.49756028]\n",
      " [4.0690013  0.78992427 6.1013702 ]\n",
      " [2.35568927 1.71723111 0.35105617]]\n"
     ]
    }
   ],
   "source": [
    "Fs = np.random.random(5*3*3).reshape(5,3,3)\n",
    "Rs = np.array([polar(me)[0] for me in Fs])\n",
    "\n",
    "eulers_o = Mat2EulerZXZVectorized(Rs)\n",
    "\n",
    "print(eulers_o)"
   ]
  },
  {
   "cell_type": "code",
   "execution_count": 7,
   "metadata": {},
   "outputs": [
    {
     "name": "stdout",
     "output_type": "stream",
     "text": [
      "[[1.58458428 2.13042316 1.14246718]\n",
      " [2.02289707 1.9894906  1.22023214]\n",
      " [3.3984074  0.68974633 2.49756028]\n",
      " [4.0690013  0.78992427 6.1013702 ]\n",
      " [2.35568927 1.71723111 0.35105617]]\n"
     ]
    }
   ],
   "source": [
    "eulers_n = Eulers.matrices_to_eulers(Rs)\n",
    "\n",
    "print(eulers_n)"
   ]
  },
  {
   "cell_type": "code",
   "execution_count": 8,
   "metadata": {},
   "outputs": [],
   "source": [
    "# now batch testing\n",
    "\n",
    "N = 10000\n",
    "Fs = np.random.random(N*3*3).reshape(N,3,3)\n",
    "Rs = np.array([polar(me)[0] for me in Fs])"
   ]
  },
  {
   "cell_type": "code",
   "execution_count": 9,
   "metadata": {},
   "outputs": [
    {
     "name": "stdout",
     "output_type": "stream",
     "text": [
      "2.01 ms ± 87.9 µs per loop (mean ± std. dev. of 7 runs, 100 loops each)\n"
     ]
    }
   ],
   "source": [
    "%%timeit\n",
    "eulers_o = Mat2EulerZXZVectorized(Rs)"
   ]
  },
  {
   "cell_type": "code",
   "execution_count": 10,
   "metadata": {},
   "outputs": [
    {
     "name": "stdout",
     "output_type": "stream",
     "text": [
      "1.45 ms ± 8.63 µs per loop (mean ± std. dev. of 7 runs, 1000 loops each)\n"
     ]
    }
   ],
   "source": [
    "%%timeit\n",
    "eulers_n = Eulers.matrices_to_eulers(Rs)"
   ]
  },
  {
   "cell_type": "code",
   "execution_count": 11,
   "metadata": {},
   "outputs": [],
   "source": [
    "np.testing.assert_allclose(eulers_o, eulers_n)"
   ]
  },
  {
   "cell_type": "markdown",
   "metadata": {},
   "source": [
    "# Quaternion dev"
   ]
  },
  {
   "cell_type": "code",
   "execution_count": 4,
   "metadata": {},
   "outputs": [
    {
     "name": "stdout",
     "output_type": "stream",
     "text": [
      "[33. 10.  1.]\n"
     ]
    }
   ],
   "source": [
    "euler = np.radians([33, 10, 1])\n",
    "\n",
    "e = Eulers(*euler)\n",
    "q = Quaternion.from_eulers(e)\n",
    "\n",
    "print(np.degrees(q.as_eulers.as_array))"
   ]
  },
  {
   "cell_type": "code",
   "execution_count": 7,
   "metadata": {},
   "outputs": [
    {
     "data": {
      "application/vnd.jupyter.widget-view+json": {
       "model_id": "659123b775314c98975586cdcf71710e",
       "version_major": 2,
       "version_minor": 0
      },
      "text/plain": [
       "HBox(children=(IntProgress(value=0, max=10000), HTML(value='')))"
      ]
     },
     "metadata": {},
     "output_type": "display_data"
    },
    {
     "name": "stdout",
     "output_type": "stream",
     "text": [
      "\n"
     ]
    }
   ],
   "source": [
    "for _ in tqdm_notebook(range(10000)):\n",
    "    euler = Eulers(*((np.random.random(3)-0.5)*2*np.pi))\n",
    "    q = Quaternion.from_eulers(euler)\n",
    "    np.testing.assert_allclose(euler.as_array, q.as_eulers.as_array)"
   ]
  },
  {
   "cell_type": "code",
   "execution_count": 22,
   "metadata": {},
   "outputs": [
    {
     "data": {
      "application/vnd.jupyter.widget-view+json": {
       "model_id": "bb68d7e258e34f8e876154d2ea1f1f4d",
       "version_major": 2,
       "version_minor": 0
      },
      "text/plain": [
       "HBox(children=(IntProgress(value=0, max=10000), HTML(value='')))"
      ]
     },
     "metadata": {},
     "output_type": "display_data"
    },
    {
     "name": "stdout",
     "output_type": "stream",
     "text": [
      "\n"
     ]
    }
   ],
   "source": [
    "P = -1\n",
    "\n",
    "def eu2qu(eu):\n",
    "    \"\"\"Euler angles to quaternion\"\"\"\n",
    "    ee = 0.5*eu\n",
    "    cPhi = np.cos(ee[1])\n",
    "    sPhi = np.sin(ee[1])\n",
    "    qu = np.array([ cPhi*np.cos(ee[0]+ee[2]),\n",
    "                   -P*sPhi*np.cos(ee[0]-ee[2]),\n",
    "                   -P*sPhi*np.sin(ee[0]-ee[2]),\n",
    "                   -P*cPhi*np.sin(ee[0]+ee[2]) ])\n",
    "    #if qu[0] < 0.0: qu.homomorph()                                                                   !ToDo: Check with original\n",
    "    return qu\n",
    "\n",
    "def qu2eu(qu):\n",
    "    \"\"\"Quaternion to Euler angles\"\"\" \n",
    "    q03 = qu[0]**2+qu[3]**2\n",
    "    q12 = qu[1]**2+qu[2]**2\n",
    "    chi = np.sqrt(q03*q12)\n",
    "    \n",
    "    if iszero(chi):\n",
    "        eu = np.array([np.arctan2(-P*2.0*qu[0]*qu[3],qu[0]**2-qu[3]**2), 0.0,   0.0]) if iszero(q12) else \\\n",
    "        np.array([np.arctan2(2.0*qu[1]*qu[2],qu[1]**2-qu[2]**2),         np.pi, 0.0])\n",
    "    else:\n",
    "        eu = np.array([np.arctan2((-P*qu[0]*qu[2]+qu[1]*qu[3])*chi, (-P*qu[0]*qu[1]-qu[2]*qu[3])*chi ),\n",
    "                       np.arctan2( 2.0*chi, q03-q12 ), \n",
    "                       np.arctan2(( P*qu[0]*qu[2]+qu[1]*qu[3])*chi, (-P*qu[0]*qu[1]+qu[2]*qu[3])*chi )])\n",
    "    \n",
    "    # reduce Euler angles to definition range, i.e a lower limit of 0.0\n",
    "    eu = np.where(eu<0, (eu+2.0*np.pi)%np.array([2.0*np.pi,np.pi,2.0*np.pi]),eu)\n",
    "    return eu\n",
    "\n",
    "for _ in tqdm_notebook(range(10000)):\n",
    "    eu = (np.random.random(3)-0.5)*np.pi*2\n",
    "    eu = np.where(eu<0, (eu+2.0*np.pi)%np.array([2.0*np.pi,np.pi,2.0*np.pi]),eu%(2*np.pi))\n",
    "    q = eu2qu(eu)\n",
    "    np.testing.assert_allclose(eu, qu2eu(q))"
   ]
  },
  {
   "cell_type": "code",
   "execution_count": 15,
   "metadata": {},
   "outputs": [
    {
     "name": "stdout",
     "output_type": "stream",
     "text": [
      "[[-0.25105867 -0.12553971  0.9597965 ]\n",
      " [ 0.93710801  0.21686823  0.27348992]\n",
      " [-0.24248322  0.96809501  0.06319762]]\n",
      "[105.90467648  86.3766286  345.93816595]\n",
      "[[-0.25105867 -0.12553971  0.9597965 ]\n",
      " [ 0.93710801  0.21686823  0.27348992]\n",
      " [-0.24248322  0.96809501  0.06319762]]\n",
      "[105.90467648  86.3766286  345.93816595]\n"
     ]
    }
   ],
   "source": [
    "F = np.random.random(3*3).reshape(3,3)\n",
    "\n",
    "R, V = polar(F)\n",
    "\n",
    "print(R)\n",
    "print(np.degrees(Eulers.from_matrix(R).as_array))\n",
    "\n",
    "q = Quaternion.from_matrix(R)\n",
    "\n",
    "print(q.as_matrix)\n",
    "print(np.degrees(q.as_eulers.as_array))"
   ]
  },
  {
   "cell_type": "code",
   "execution_count": 16,
   "metadata": {},
   "outputs": [
    {
     "name": "stdout",
     "output_type": "stream",
     "text": [
      "[ 68.16890986 331.94189004 352.08259557]\n",
      "[[ 0.48116562 -0.76015152 -0.43663407]\n",
      " [ 0.87423211  0.45290461  0.17491606]\n",
      " [ 0.06479088 -0.46588312  0.882471  ]]\n",
      "[248.16890986  28.05810996 172.08259557]\n"
     ]
    }
   ],
   "source": [
    "euler = Eulers(*((np.random.random(3)-0.5)*2*np.pi))\n",
    "\n",
    "print(np.degrees(euler.as_array))\n",
    "\n",
    "m = euler.as_matrix\n",
    "\n",
    "print(m)\n",
    "\n",
    "q = Quaternion.from_matrix(m)\n",
    "print(np.degrees(q.as_eulers.as_array))"
   ]
  },
  {
   "cell_type": "code",
   "execution_count": null,
   "metadata": {},
   "outputs": [],
   "source": []
  },
  {
   "cell_type": "code",
   "execution_count": null,
   "metadata": {},
   "outputs": [],
   "source": []
  },
  {
   "cell_type": "code",
   "execution_count": null,
   "metadata": {},
   "outputs": [],
   "source": []
  },
  {
   "cell_type": "code",
   "execution_count": null,
   "metadata": {},
   "outputs": [],
   "source": []
  },
  {
   "cell_type": "code",
   "execution_count": null,
   "metadata": {},
   "outputs": [],
   "source": []
  },
  {
   "cell_type": "code",
   "execution_count": null,
   "metadata": {},
   "outputs": [],
   "source": []
  },
  {
   "cell_type": "markdown",
   "metadata": {},
   "source": [
    "# Misorientation related calculation"
   ]
  },
  {
   "cell_type": "code",
   "execution_count": 15,
   "metadata": {},
   "outputs": [],
   "source": [
    "Misorien2FZ1??"
   ]
  },
  {
   "cell_type": "code",
   "execution_count": null,
   "metadata": {},
   "outputs": [],
   "source": []
  }
 ],
 "metadata": {
  "kernelspec": {
   "display_name": "Python 3",
   "language": "python",
   "name": "python3"
  },
  "language_info": {
   "codemirror_mode": {
    "name": "ipython",
    "version": 3
   },
   "file_extension": ".py",
   "mimetype": "text/x-python",
   "name": "python",
   "nbconvert_exporter": "python",
   "pygments_lexer": "ipython3",
   "version": "3.7.0"
  }
 },
 "nbformat": 4,
 "nbformat_minor": 2
}
