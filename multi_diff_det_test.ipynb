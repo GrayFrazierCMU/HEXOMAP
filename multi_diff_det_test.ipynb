{
 "cells": [
  {
   "cell_type": "code",
   "execution_count": 2,
   "metadata": {},
   "outputs": [],
   "source": [
    "import numpy as np\n",
    "import matplotlib.pyplot as plt\n",
    "import pickle\n",
    "# customized module\n",
    "\n",
    "import reconstruction  # g-force caller\n",
    "import MicFileTool     # io for reconstruction rst\n",
    "import IntBin          # io for binary image (reduced data)"
   ]
  },
  {
   "cell_type": "code",
   "execution_count": 1,
   "metadata": {},
   "outputs": [
    {
     "name": "stdout",
     "output_type": "stream",
     "text": [
      "(256, 3)\n",
      "7\n",
      " exp data loaded, shape is: (40248317, 4).\n",
      "=============start of copy exp data to gpu ===========\n",
      "start of create data on cpu ram\n",
      "=============start of copy exp data to CPU ===========\n",
      "assuming same type of detector in different distances\n",
      "=============end of copy exp data to CPU ===========\n",
      "start of creating texture memory\n",
      "end of creating texture memory\n",
      "=============end of copy exp data to gpu ===========\n",
      "==========start of reconstruction======== \n",
      "\n",
      " voxelIdx: 1101, voxelLeft: 1/2500.  max hitratio: 0.699999988079071, peakcnt: 30,reconstructed euler angle [245.39312235  40.26274909  97.46080941]]]]]]number of flood fills: 252\n",
      "start of post processing, moving grain boundaries untile stable\n",
      " Iteration: 4, max misorien: 0.0009765625215828number of post process iteration: 4, number of voxel revisited: 1616\n",
      " post process takes is 7.772178411483765 seconds\n",
      "===========end of reconstruction========== \n",
      "\n",
      "SourceModule time 65.7242578125 seconds.\n",
      "saved as npy format\n"
     ]
    },
    {
     "data": {
      "text/plain": [
       "<Figure size 1000x1000 with 1 Axes>"
      ]
     },
     "metadata": {},
     "output_type": "display_data"
    },
    {
     "data": {
      "text/plain": [
       "<Figure size 1000x1000 with 2 Axes>"
      ]
     },
     "metadata": {},
     "output_type": "display_data"
    }
   ],
   "source": [
    "# step 2: start reconstruction with calibrated configuration (parameters)\n",
    "import reconstruction\n",
    "import MicFileTool\n",
    "import numpy as np\n",
    "import matplotlib.pyplot as plt\n",
    "import IntBin\n",
    "import pickle\n",
    "# check result of parameter get from blind search:\n",
    "# NOET: in practice, might need more iterations for better configuration params\n",
    "with open('data/johnson_aug18_demo/geometry_au_johnson_aug18_twiddle_1.p', 'rb') as input:\n",
    "    centerL, centerJ, centerK, centerRot  = pickle.load(input)\n",
    "\n",
    "# \n",
    "S = reconstruction.Reconstructor_GPU()\n",
    "S.set_det_param(centerL, centerJ, centerK, centerRot) # set parameter\n",
    "S.set_Q(7)\n",
    "print(S.maxQ)\n",
    "\n",
    "S.FZFile = '/home/hedm/work/I9_test_data/Au_Mar17/DataFiles/MyFZ.dat'         # fundamental zone file\n",
    "S.set_sample('iron_bcc')\n",
    "S.energy = 65.351\n",
    "S.expDataInitial = '/home/hedm/work/suter_aug18/SB1_v1_v2_boxbeam/SB1_postheat_restart_V1_1degree/SB1_V1_1degree_z0_' # reduced binary data\n",
    "S.expdataNDigit = 6                                                       # number of digit in the binary file name\n",
    "imgsize = [50, 50]\n",
    "voxelSize = 0.01\n",
    "shift = [0.0, 0.0, 0.0]\n",
    "S.create_square_mic(imgsize,\n",
    "                    voxelsize=voxelSize,\n",
    "                    shift=shift,\n",
    "                   )# resolution of reconstruction and voxel size\n",
    "S.squareMicOutFile = 'demoSB1_V1_Z0_johnson_aug17_' \\\n",
    "                    + f'{\"x\".join(map(str,imgsize))}_{voxelSize}' \\\n",
    "                    + f'_shift_{\"_\".join(map(str, shift))}.npy' # output file name\n",
    "S.searchBatchSize = 6000   # number of orientations search at each iteration, larger number will take longer time.\n",
    "S.intensity_threshold = 2 # throw away peaks with intensity below this value\n",
    "S.recon_prepare(reverseRot=True)  # at 1ID, left hand rotation needs reverseRot=True\n",
    "S.serial_recon_multi_stage()\n",
    "\n",
    "#388seconds with verbose\n",
    "plt.rcParams[\"figure.figsize\"] = (10,10)\n",
    "MicFileTool.plot_square_mic(S.squareMicData,0.6)\n",
    "MicFileTool.plot_conf_square_mic(S.squareMicData)"
   ]
  },
  {
   "cell_type": "markdown",
   "metadata": {},
   "source": [
    "# test for multiple detectors with different size and resolution:"
   ]
  },
  {
   "cell_type": "code",
   "execution_count": 3,
   "metadata": {},
   "outputs": [
    {
     "name": "stdout",
     "output_type": "stream",
     "text": [
      "(256, 3)\n",
      "7\n",
      "(100, 3)\n",
      "(100, 3, 3)\n",
      "============start of simulation ============= \n",
      "\n",
      "nvoxel: 100, norientation:1.0\n",
      "\n",
      "============end of simulation================ \n",
      "\n",
      "SourceModule time 0.00022649599611759187 seconds.\n",
      "22400\n",
      "112 100 2 1\n",
      "22400\n",
      "[0 0 0 ... 0 0 0]\n",
      "[0 0 0 ... 0 0 0]\n",
      "[-1.9302782  1.0029833 -1.4542826 ... -1.6873102  1.2113144 -2.1386094]\n",
      "[False False False ... False False False]\n"
     ]
    }
   ],
   "source": [
    "# simulate binary:\n",
    "# check result of parameter get from blind search:\n",
    "############################# load parameters #####################3\n",
    "# with open('geometry_blindsearch_0.p', 'rb') as input:\n",
    "#     centerL, centerJ, centerK, centerRot  = pickle.load(input)\n",
    "centerL = np.array([[4.51771003]])\n",
    "centerJ = np.array([[1017.47615371]])\n",
    "centerK = np.array([[2015.9392908]])\n",
    "centerRot = np.array([[[ 9.00008974e+01,  8.99991399e+01, -6.16813375e-04]]])\n",
    "\n",
    "S = reconstruction.Reconstructor_GPU()\n",
    "S.NDet = 1\n",
    "S.set_det_param(centerL, centerJ, centerK, centerRot) # set parameter\n",
    "S.set_Q(7)\n",
    "\n",
    "print(S.maxQ)\n",
    "S.FZFile = '/home/hedm/work/I9_test_data/Au_Mar17/DataFiles/MyFZ.dat'         # fundamental zone file\n",
    "S.set_sample('gold')\n",
    "S.energy = 65.351\n",
    "S.expdataNDigit = 6                                                       # number of digit in the binary file name\n",
    "S.create_square_mic([10,10],voxelsize=0.01,shift=[0.0,0.0,0])             # resolution of reconstruction and voxel size\n",
    "S.searchBatchSize = 6000                                                 # number of orientations search at each iteration, larger number will take longer time.\n",
    "\n",
    "\n",
    "S.sim_mic()\n",
    "\n",
    "# show results:\n",
    "# here are the outputs:\n",
    "# lenght of output is iNVoxel*iNOrientation*iNG*2*iNDet\n",
    "print(len(S.aJH))\n",
    "print(S.NG,S.NVoxel,2, S.NDet)\n",
    "print(S.NG*S.NVoxel*2*S.NDet)\n",
    "print(S.aJH) # detector location in horizental direction,pixel\n",
    "print(S.aKH) # detector location in vertical direction,pixel\n",
    "print(S.aOmegaH) # rotation omega, radian\n",
    "print(S.bHitH) # if the peak hit the detector or not\n",
    "\n",
    "# extract only peaks that hit the detector:\n",
    "lJ = []\n",
    "lK = []\n",
    "lOmega = []\n",
    "lRot = []\n",
    "for i,hit in enumerate(S.bHitH):\n",
    "    if hit:\n",
    "        #print(S.aJH[i],S.aKH[i],S.aOmegaH[i],S.aiRotNH[i])\n",
    "        lJ.append(S.aJH[i])\n",
    "        lK.append(S.aKH[i])\n",
    "        lOmega.append(S.aOmegaH[i])"
   ]
  },
  {
   "cell_type": "code",
   "execution_count": 4,
   "metadata": {},
   "outputs": [
    {
     "data": {
      "image/png": "[encoded data removed]",
      "text/plain": [
       "<Figure size 432x288 with 1 Axes>"
      ]
     },
     "metadata": {},
     "output_type": "display_data"
    }
   ],
   "source": [
    "#visualize result\n",
    "plt.scatter(2047-np.array(lJ),2047-np.array(lK),c='b',s=1)  \n",
    "# sparse matrix, directly plot sigal on canvas\n",
    "plt.axis('scaled')\n",
    "plt.xlim((0,2048))\n",
    "plt.ylim((0,2048))\n",
    "plt.show()"
   ]
  },
  {
   "cell_type": "code",
   "execution_count": 8,
   "metadata": {},
   "outputs": [
    {
     "name": "stdout",
     "output_type": "stream",
     "text": [
      "(256, 3)\n",
      "7\n",
      "(100, 3)\n",
      "(100, 3, 3)\n",
      "============start of simulation ============= \n",
      "\n",
      "nvoxel: 100, norientation:1.0\n",
      "\n",
      "============end of simulation================ \n",
      "\n",
      "SourceModule time 0.0002889919877052307 seconds.\n",
      "[36, 32, 1966, 1964, 121, 1648, 386, 1633, 383, 1829, 31, 31, 529, 532, 1421, 1407, 1889, 1886, 386, 401, 1526, 1512, 67, 70, 613, 627, 1333, 1331, 1848, 1847, 205, 1740, 145, 148, 1842, 1846, 40, 36, 1970, 1968, 130, 1648, 386, 1635, 385, 1839, 44, 44, 538, 542, 1430, 1417, 1902, 1899, 399, 414, 1540, 1526, 81, 83, 623, 636, 1343, 1339, 1861, 1860, 215, 1750, 150, 152, 1848, 1851, 43, 40, 1973, 1972, 139, 1648, 386, 1637, 387, 1848, 57, 57, 547, 553, 1440, 1428, 1914, 1912, 413, 428, 1553, 1539, 94, 96, 633, 644, 1353, 1348, 1874, 1873, 224, 1760, 155, 157, 1853, 1855, 47, 45, 1977, 1977, 149, 1648, 386, 1639, 389, 1857, 69, 70, 557, 564, 1449, 1438, 1927, 1925, 426, 441, 1567, 1553, 107, 109, 642, 653, 1362, 1356, 1887, 1886, 234, 1770, 161, 161, 1858, 1860, 50, 49, 1980, 1981, 158, 1648, 386, 1641, 391, 1867, 82, 83, 566, 574, 1458, 1449, 1939, 1938, 440, 455, 1580, 1566, 120, 122, 652, 661, 1372, 1365, 1900, 1899, 244, 1780, 166, 165, 1863, 1864, 54, 53, 1984, 1985, 167, 1648, 386, 1643, 393, 1876, 94, 96, 576, 585, 1468, 1460, 1952, 1951, 454, 468, 1594, 1579, 134, 135, 662, 669, 1382, 1373, 1914, 1912, 254, 1790, 171, 170, 1868, 1869, 57, 57, 1987, 1989, 177, 1648, 386, 1645, 395, 1885, 107, 109, 585, 596, 1477, 1470, 1965, 1964, 467, 481, 1608, 1593, 147, 148, 672, 678, 1391, 1381, 1927, 1925, 264, 1800, 176, 174, 1873, 1873, 61, 61, 1991, 1994, 186, 1648, 386, 1647, 397, 1895, 120, 122, 594, 606, 1487, 1481, 1977, 1977, 481, 495, 1621, 1606, 160, 161, 681, 686, 1401, 1390, 1940, 1938, 274, 1809, 181, 179, 1879, 1877, 64, 66, 1994, 1998, 195, 1648, 386, 1649, 399, 1904, 132, 135, 604, 617, 1496, 1492, 1990, 1990, 494, 508, 1635, 1620, 173, 174, 691, 695, 1411, 1398, 1953, 1951, 284, 1819, 186, 183, 1884, 1882, 67, 70, 1998, 2002, 205, 1648, 386, 1650, 401, 1913, 145, 148, 613, 627, 1505, 1502, 2003, 2003, 508, 522, 1648, 1633, 186, 187, 701, 703, 1421, 1407, 1966, 1964, 294, 1829, 192, 187, 1889, 1886, 50, 45, 1953, 1951, 131, 1635, 399, 1620, 397, 1819, 36, 36, 538, 540, 1411, 1398, 1884, 1882, 386, 399, 1526, 1514, 64, 66, 604, 617, 1343, 1342, 1851, 1851, 195, 1749, 132, 135, 1855, 1859, 53, 49, 1957, 1955, 140, 1635, 399, 1622, 399, 1829, 49, 49, 548, 551, 1420, 1409, 1896, 1895, 399, 412, 1540, 1528, 77, 79, 614, 625, 1352, 1350, 1864, 1864, 205, 1759, 138, 139, 1860, 1864, 57, 53, 1960, 1959, 149, 1635, 399, 1624, 401, 1838, 62, 62, 557, 561, 1430, 1419, 1909, 1908, 413, 426, 1553, 1541, 90, 92, 623, 634, 1362, 1358, 1877, 1877, 215, 1769, 143, 144, 1865, 1868, 60, 58, 1964, 1964, 159, 1635, 399, 1626, 403, 1847, 74, 75, 566, 572, 1439, 1430, 1922, 1921, 426, 439, 1567, 1554, 104, 105, 633, 642, 1372, 1367, 1891, 1890, 225, 1779, 148, 148, 1871, 1873, 63, 62, 1967, 1968, 168, 1635, 399, 1627, 405, 1857, 87, 87, 576, 583, 1449, 1441, 1934, 1934, 440, 453, 1580, 1568, 117, 118, 643, 650, 1381, 1375, 1904, 1903, 235, 1789, 153, 152, 1876, 1877, 67, 66, 1971, 1972, 177, 1635, 399, 1629, 406, 1866, 100, 100, 585, 593, 1458, 1451, 1947, 1946, 454, 466, 1594, 1581, 130, 131, 653, 659, 1391, 1384, 1917, 1916, 245, 1799, 158, 157, 1881, 1881, 70, 70, 1974, 1976, 187, 1635, 399, 1631, 408, 1875, 112, 113, 595, 604, 1467, 1462, 1960, 1959, 467, 479, 1608, 1595, 143, 144, 662, 667, 1401, 1392, 1930, 1929, 255, 1809, 163, 161, 1886, 1886, 74, 74, 1977, 1981, 196, 1635, 399, 1633, 410, 1885, 125, 126, 604, 615, 1477, 1473, 1972, 1972, 481, 493, 1621, 1608, 157, 157, 672, 676, 1411, 1400, 1943, 1942, 265, 1819, 169, 166, 1891, 1890, 77, 79, 1981, 1985, 205, 1635, 399, 1635, 412, 1894, 138, 139, 614, 625, 1486, 1483, 1985, 1985, 494, 506, 1635, 1622, 170, 170, 682, 684, 1420, 1409, 1957, 1955, 275, 1829, 174, 170, 1896, 1895, 81, 83, 1984, 1989, 215, 1635, 399, 1637, 414, 1903, 150, 152, 623, 636, 1496, 1494, 1998, 1998, 508, 520, 1648, 1635, 183, 183, 691, 692, 1430, 1417, 1970, 1968, 285, 1839, 179, 175, 1902, 1899, 63, 58, 1940, 1938, 141, 1621, 413, 1606, 410, 1809, 42, 40, 548, 549, 1401, 1390, 1879, 1877, 386, 397, 1526, 1516, 61, 61, 594, 606, 1352, 1352, 1854, 1855, 186, 1758, 120, 122, 1868, 1872, 66, 62, 1943, 1942, 150, 1621, 413, 1608, 412, 1819, 54, 53, 557, 559, 1411, 1400, 1891, 1890, 399, 410, 1540, 1530, 74, 74, 604, 615, 1362, 1361, 1868, 1868, 196, 1768, 125, 126, 1873, 1877, 70, 66, 1947, 1946, 159, 1621, 413, 1610, 414, 1828, 67, 66, 567, 570, 1420, 1411, 1904, 1903, 413, 424, 1553, 1543, 87, 87, 614, 623, 1371, 1369, 1881, 1881, 206, 1778, 130, 131, 1878, 1881, 73, 71, 1950, 1951, 169, 1621, 413, 1612, 416, 1837, 80, 79, 576, 580, 1429, 1422, 1916, 1916, 426, 437, 1567, 1556, 100, 100, 624, 631, 1381, 1377, 1894, 1894, 216, 1788, 135, 135, 1883, 1886, 77, 75, 1954, 1955, 178, 1621, 413, 1614, 418, 1847, 92, 92, 586, 591, 1439, 1432, 1929, 1929, 440, 451, 1580, 1570, 113, 113, 633, 640, 1391, 1386, 1907, 1907, 226, 1798, 140, 140, 1888, 1890, 80, 79, 1957, 1959, 187, 1621, 413, 1616, 420, 1856, 105, 105, 595, 602, 1448, 1443, 1942, 1942, 454, 464, 1594, 1583, 127, 126, 643, 648, 1401, 1394, 1920, 1920, 236, 1808, 146, 144, 1893, 1894, 84, 83, 1961, 1963, 197, 1621, 413, 1618, 422, 1865, 117, 118, 604, 612, 1458, 1454, 1954, 1955, 467, 478, 1608, 1597, 140, 139, 653, 657, 1410, 1403, 1934, 1933, 246, 1818, 151, 148, 1899, 1899, 87, 87, 1964, 1968, 206, 1621, 413, 1620, 424, 1875, 130, 131, 614, 623, 1467, 1464, 1967, 1968, 481, 491, 1621, 1610, 153, 152, 663, 665, 1420, 1411, 1947, 1946, 256, 1828, 156, 153, 1904, 1903, 90, 92, 1968, 1972, 215, 1621, 413, 1622, 426, 1884, 143, 144, 623, 634, 1477, 1475, 1980, 1981, 494, 504, 1635, 1624, 166, 165, 672, 673, 1430, 1419, 1960, 1959, 266, 1838, 161, 157, 1909, 1908, 94, 96, 1971, 1976, 224, 1621, 413, 1624, 428, 1893, 155, 157, 633, 644, 1486, 1485, 1992, 1994, 508, 518, 1648, 1637, 180, 178, 682, 682, 1440, 1428, 1973, 1972, 276, 1848, 166, 162, 1914, 1912, 76, 71, 1927, 1925, 151, 1608, 426, 1593, 424, 1800, 47, 45, 558, 557, 1391, 1381, 1873, 1873, 386, 395, 1526, 1518, 57, 57, 585, 596, 1361, 1363, 1858, 1860, 177, 1768, 107, 109, 1880, 1885, 80, 75, 1930, 1929, 160, 1608, 426, 1595, 426, 1809, 59, 58, 567, 568, 1401, 1392, 1886, 1886, 399, 408, 1540, 1531, 70, 70, 595, 604, 1371, 1371, 1871, 1873, 187, 1778, 112, 113, 1885, 1890, 83, 79, 1934, 1933, 169, 1608, 426, 1597, 428, 1818, 72, 70, 577, 578, 1410, 1403, 1899, 1899, 413, 422, 1553, 1545, 84, 83, 604, 612, 1381, 1380, 1884, 1886, 197, 1788, 117, 118, 1891, 1894, 86, 84, 1937, 1938, 179, 1608, 426, 1599, 430, 1827, 85, 83, 586, 589, 1420, 1413, 1911, 1912, 426, 435, 1567, 1558, 97, 96, 614, 621, 1391, 1388, 1898, 1899, 206, 1798, 123, 122, 1896, 1899, 90, 88, 1941, 1942, 188, 1608, 426, 1601, 431, 1837, 97, 96, 595, 599, 1429, 1424, 1924, 1925, 440, 449, 1580, 1572, 110, 109, 624, 629, 1400, 1396, 1911, 1912, 216, 1808, 128, 127, 1901, 1903, 93, 92, 1944, 1946, 197, 1608, 426, 1602, 433, 1846, 110, 109, 605, 610, 1439, 1434, 1937, 1938, 454, 462, 1594, 1585, 123, 122, 634, 637, 1410, 1405, 1924, 1925, 226, 1818, 133, 131, 1906, 1907, 97, 96, 1948, 1950, 206, 1608, 426, 1604, 435, 1855, 123, 122, 614, 621, 1448, 1445, 1949, 1951, 467, 476, 1608, 1599, 136, 135, 643, 646, 1420, 1413, 1937, 1938, 236, 1827, 138, 135, 1911, 1912, 100, 100, 1951, 1955, 216, 1608, 426, 1606, 437, 1865, 135, 135, 624, 631, 1457, 1456, 1962, 1963, 481, 489, 1621, 1612, 150, 148, 653, 654, 1429, 1422, 1950, 1951, 246, 1837, 143, 140, 1916, 1916, 104, 105, 1954, 1959, 225, 1608, 426, 1608, 439, 1874, 148, 148, 633, 642, 1467, 1466, 1975, 1976, 494, 502, 1635, 1626, 163, 161, 663, 663, 1439, 1430, 1964, 1964, 256, 1847, 148, 144, 1922, 1921, 107, 109, 1958, 1963, 234, 1608, 426, 1610, 441, 1883, 161, 161, 642, 653, 1476, 1477, 1987, 1989, 508, 516, 1648, 1639, 176, 174, 673, 671, 1449, 1438, 1977, 1977, 266, 1857, 154, 149, 1927, 1925, 89, 84, 1914, 1912, 161, 1594, 440, 1579, 437, 1790, 52, 49, 567, 565, 1382, 1373, 1868, 1869, 386, 393, 1526, 1520, 54, 53, 576, 585, 1371, 1373, 1861, 1864, 167, 1777, 94, 96, 1893, 1898, 93, 88, 1917, 1916, 170, 1594, 440, 1581, 439, 1799, 65, 62, 577, 576, 1391, 1384, 1881, 1881, 399, 406, 1540, 1533, 67, 66, 585, 593, 1380, 1382, 1875, 1877, 177, 1787, 100, 100, 1898, 1903, 96, 92, 1920, 1920, 179, 1594, 440, 1583, 441, 1808, 77, 75, 586, 587, 1401, 1394, 1893, 1894, 413, 420, 1553, 1547, 80, 79, 595, 602, 1390, 1390, 1888, 1890, 187, 1797, 105, 105, 1903, 1907, 100, 97, 1924, 1925, 188, 1594, 440, 1585, 443, 1818, 90, 88, 596, 597, 1410, 1405, 1906, 1907, 426, 433, 1567, 1560, 93, 92, 605, 610, 1400, 1399, 1901, 1903, 197, 1807, 110, 109, 1908, 1911, 103, 101, 1927, 1929, 198, 1594, 440, 1587, 445, 1827, 103, 101, 605, 608, 1419, 1415, 1919, 1920, 440, 447, 1580, 1574, 107, 105, 615, 618, 1410, 1407, 1914, 1916, 207, 1817, 115, 114, 1914, 1916, 107, 105, 1931, 1933, 207, 1594, 440, 1589, 447, 1836, 115, 114, 615, 618, 1429, 1426, 1931, 1933, 454, 460, 1594, 1587, 120, 118, 624, 627, 1419, 1415, 1927, 1929, 217, 1827, 120, 118, 1919, 1920, 110, 109, 1934, 1937, 216, 1594, 440, 1591, 449, 1845, 128, 127, 624, 629, 1438, 1437, 1944, 1946, 467, 474, 1608, 1601, 133, 131, 634, 635, 1429, 1424, 1941, 1942, 227, 1837, 126, 122, 1924, 1925, 113, 113, 1938, 1942, 226, 1594, 440, 1593, 451, 1855, 140, 140, 633, 640, 1448, 1447, 1957, 1959, 481, 487, 1621, 1614, 146, 144, 644, 644, 1439, 1432, 1954, 1955, 237, 1847, 131, 127, 1929, 1929, 117, 118, 1941, 1946, 235, 1594, 440, 1595, 453, 1864, 153, 152, 643, 650, 1457, 1458, 1969, 1972, 494, 501, 1635, 1627, 159, 157, 653, 652, 1449, 1441, 1967, 1968, 247, 1857, 136, 131, 1934, 1934, 120, 122, 1945, 1950, 244, 1594, 440, 1597, 455, 1873, 166, 165, 652, 661, 1467, 1469, 1982, 1985, 508, 514, 1648, 1641, 173, 170, 663, 660, 1458, 1449, 1980, 1981, 257, 1867, 141, 136, 1939, 1938, 102, 97, 1900, 1899, 170, 1580, 454, 1566, 451, 1780, 57, 53, 577, 574, 1372, 1365, 1863, 1864, 386, 391, 1526, 1522, 50, 49, 566, 574, 1380, 1384, 1865, 1868, 158, 1786, 82, 83, 1906, 1911, 106, 101, 1904, 1903, 180, 1580, 454, 1568, 453, 1789, 70, 66, 587, 584, 1381, 1375, 1876, 1877, 399, 405, 1540, 1535, 63, 62, 576, 583, 1390, 1392, 1878, 1881, 168, 1796, 87, 87, 1911, 1916, 109, 105, 1907, 1907, 189, 1580, 454, 1570, 454, 1798, 82, 79, 596, 595, 1391, 1386, 1888, 1890, 413, 418, 1553, 1549, 77, 75, 586, 591, 1400, 1401, 1891, 1894, 178, 1806, 92, 92, 1916, 1920, 113, 110, 1911, 1912, 198, 1580, 454, 1572, 456, 1808, 95, 92, 605, 606, 1400, 1396, 1901, 1903, 426, 431, 1567, 1562, 90, 88, 595, 599, 1409, 1409, 1904, 1907, 188, 1816, 97, 96, 1921, 1924, 116, 114, 1914, 1916, 208, 1580, 454, 1574, 458, 1817, 108, 105, 615, 616, 1410, 1407, 1914, 1916, 440, 445, 1580, 1576, 103, 101, 605, 608, 1419, 1418, 1918, 1920, 198, 1826, 103, 101, 1926, 1929, 120, 118, 1918, 1920, 217, 1580, 454, 1576, 460, 1826, 120, 118, 624, 627, 1419, 1418, 1926, 1929, 454, 458, 1594, 1589, 116, 114, 615, 616, 1429, 1426, 1931, 1933, 208, 1836, 108, 105, 1931, 1933, 123, 122, 1921, 1924, 226, 1580, 454, 1578, 462, 1835, 133, 131, 634, 637, 1429, 1428, 1939, 1942, 467, 472, 1608, 1602, 130, 127, 625, 625, 1439, 1434, 1944, 1946, 218, 1846, 113, 110, 1937, 1938, 127, 126, 1925, 1929, 236, 1580, 454, 1579, 464, 1845, 146, 144, 643, 648, 1438, 1439, 1952, 1955, 481, 485, 1621, 1616, 143, 140, 634, 633, 1448, 1443, 1957, 1959, 228, 1856, 118, 114, 1942, 1942, 130, 131, 1928, 1933, 245, 1580, 454, 1581, 466, 1854, 158, 157, 653, 659, 1447, 1450, 1964, 1968, 494, 499, 1635, 1629, 156, 153, 644, 641, 1458, 1451, 1971, 1972, 238, 1866, 123, 118, 1947, 1946, 134, 135, 1931, 1937, 254, 1580, 454, 1583, 468, 1863, 171, 170, 662, 669, 1457, 1460, 1977, 1980, 508, 512, 1648, 1643, 169, 166, 654, 650, 1468, 1460, 1984, 1985, 248, 1876, 128, 123, 1952, 1951, 116, 110, 1887, 1886, 180, 1567, 467, 1553, 464, 1770, 62, 58, 587, 582, 1362, 1356, 1858, 1860, 386, 389, 1526, 1524, 47, 45, 557, 564, 1390, 1395, 1868, 1872, 149, 1796, 69, 70, 1918, 1924, 119, 114, 1891, 1890, 190, 1567, 467, 1554, 466, 1779, 75, 71, 596, 593, 1372, 1367, 1871, 1873, 399, 403, 1540, 1537, 60, 58, 566, 572, 1399, 1403, 1881, 1885, 159, 1806, 74, 75, 1923, 1928, 123, 118, 1894, 1894, 199, 1567, 467, 1556, 468, 1788, 88, 84, 606, 603, 1381, 1377, 1883, 1886, 413, 416, 1553, 1551, 73, 71, 576, 580, 1409, 1412, 1895, 1898, 169, 1816, 80, 79, 1929, 1933, 126, 123, 1898, 1899, 208, 1567, 467, 1558, 470, 1798, 100, 97, 615, 614, 1391, 1388, 1896, 1899, 426, 430, 1567, 1564, 86, 84, 586, 589, 1419, 1420, 1908, 1911, 179, 1826, 85, 83, 1934, 1937, 130, 127, 1901, 1903, 218, 1567, 467, 1560, 472, 1807, 113, 110, 625, 625, 1400, 1399, 1908, 1911, 440, 443, 1580, 1578, 100, 97, 596, 597, 1429, 1428, 1921, 1924, 188, 1835, 90, 88, 1939, 1942, 133, 131, 1904, 1907, 227, 1567, 467, 1562, 474, 1816, 126, 122, 634, 635, 1409, 1409, 1921, 1924, 454, 456, 1594, 1591, 113, 110, 605, 606, 1438, 1437, 1934, 1937, 198, 1845, 95, 92, 1944, 1946, 136, 135, 1908, 1911, 236, 1567, 467, 1564, 476, 1826, 138, 135, 643, 646, 1419, 1420, 1934, 1937, 467, 470, 1608, 1604, 126, 123, 615, 614, 1448, 1445, 1948, 1950, 208, 1855, 100, 97, 1949, 1951, 140, 139, 1911, 1916, 246, 1567, 467, 1566, 478, 1835, 151, 148, 653, 657, 1428, 1431, 1946, 1950, 481, 483, 1621, 1618, 139, 136, 625, 622, 1458, 1454, 1961, 1963, 218, 1865, 105, 101, 1954, 1955, 143, 144, 1915, 1920, 255, 1567, 467, 1568, 479, 1844, 163, 161, 662, 667, 1438, 1441, 1959, 1963, 494, 497, 1635, 1631, 153, 149, 635, 631, 1467, 1462, 1974, 1976, 228, 1875, 111, 105, 1960, 1959, 147, 148, 1918, 1924, 264, 1567, 467, 1570, 481, 1853, 176, 174, 672, 678, 1447, 1452, 1972, 1976, 508, 510, 1648, 1645, 166, 162, 644, 639, 1477, 1470, 1987, 1989, 238, 1885, 116, 110, 1965, 1964, 129, 123, 1874, 1873, 190, 1553, 481, 1539, 477, 1760, 67, 62, 597, 591, 1353, 1348, 1853, 1855, 386, 387, 1526, 1526, 43, 40, 547, 553, 1399, 1405, 1872, 1877, 139, 1805, 57, 57, 1931, 1937, 132, 127, 1877, 1877, 200, 1553, 481, 1541, 479, 1769, 80, 75, 606, 601, 1362, 1358, 1865, 1868, 399, 401, 1540, 1539, 57, 53, 557, 561, 1409, 1414, 1885, 1890, 149, 1815, 62, 62, 1936, 1941, 136, 131, 1881, 1881, 209, 1553, 481, 1543, 481, 1778, 93, 88, 615, 612, 1371, 1369, 1878, 1881, 413, 414, 1553, 1553, 70, 66, 567, 570, 1418, 1422, 1898, 1903, 159, 1825, 67, 66, 1941, 1946, 139, 136, 1884, 1886, 218, 1553, 481, 1545, 483, 1788, 105, 101, 625, 622, 1381, 1380, 1891, 1894, 426, 428, 1567, 1566, 83, 79, 577, 578, 1428, 1431, 1911, 1916, 169, 1835, 72, 70, 1946, 1950, 143, 140, 1888, 1890, 228, 1553, 481, 1547, 485, 1797, 118, 114, 634, 633, 1390, 1390, 1903, 1907, 440, 441, 1580, 1579, 96, 92, 586, 587, 1438, 1439, 1925, 1929, 179, 1845, 77, 75, 1952, 1955, 146, 144, 1891, 1894, 237, 1553, 481, 1549, 487, 1806, 131, 127, 644, 644, 1400, 1401, 1916, 1920, 454, 454, 1594, 1593, 109, 105, 596, 595, 1448, 1447, 1938, 1942, 189, 1855, 82, 79, 1957, 1959, 150, 148, 1895, 1898, 246, 1553, 481, 1551, 489, 1816, 143, 140, 653, 654, 1409, 1412, 1929, 1933, 467, 468, 1608, 1606, 123, 118, 606, 603, 1457, 1456, 1951, 1955, 199, 1865, 88, 84, 1962, 1963, 153, 152, 1898, 1903, 256, 1553, 481, 1553, 491, 1825, 156, 153, 663, 665, 1418, 1422, 1941, 1946, 481, 481, 1621, 1620, 136, 131, 615, 612, 1467, 1464, 1964, 1968, 209, 1875, 93, 88, 1967, 1968, 157, 157, 1902, 1907, 265, 1553, 481, 1555, 493, 1834, 169, 166, 672, 676, 1428, 1433, 1954, 1959, 494, 495, 1635, 1633, 149, 144, 625, 620, 1477, 1473, 1977, 1981, 219, 1885, 98, 93, 1972, 1972, 160, 161, 1905, 1911, 274, 1553, 481, 1556, 495, 1844, 181, 179, 681, 686, 1437, 1443, 1967, 1972, 508, 508, 1648, 1647, 162, 157, 635, 629, 1487, 1481, 1991, 1994, 229, 1895, 103, 97, 1977, 1977, 142, 136, 1861, 1860, 200, 1540, 494, 1526, 491, 1750, 73, 67, 606, 599, 1343, 1339, 1848, 1851, 386, 385, 1526, 1528, 40, 36, 538, 542, 1408, 1416, 1875, 1881, 130, 1814, 44, 44, 1944, 1950, 146, 140, 1864, 1864, 210, 1540, 494, 1528, 493, 1759, 85, 80, 616, 610, 1352, 1350, 1860, 1864, 399, 399, 1540, 1541, 53, 49, 548, 551, 1418, 1424, 1888, 1894, 140, 1824, 49, 49, 1949, 1954, 149, 144, 1868, 1868, 219, 1540, 494, 1530, 495, 1768, 98, 93, 625, 620, 1362, 1361, 1873, 1877, 413, 412, 1553, 1555, 66, 62, 557, 559, 1428, 1433, 1902, 1907, 150, 1834, 54, 53, 1954, 1959, 153, 149, 1871, 1873, 228, 1540, 494, 1531, 497, 1778, 111, 105, 635, 631, 1371, 1371, 1885, 1890, 426, 426, 1567, 1568, 80, 75, 567, 568, 1438, 1441, 1915, 1920, 160, 1844, 59, 58, 1959, 1963, 156, 153, 1875, 1877, 238, 1540, 494, 1533, 499, 1787, 123, 118, 644, 641, 1380, 1382, 1898, 1903, 440, 439, 1580, 1581, 93, 88, 577, 576, 1447, 1450, 1928, 1933, 170, 1854, 65, 62, 1964, 1968, 159, 157, 1878, 1881, 247, 1540, 494, 1535, 501, 1796, 136, 131, 653, 652, 1390, 1392, 1911, 1916, 454, 453, 1594, 1595, 106, 101, 587, 584, 1457, 1458, 1941, 1946, 180, 1864, 70, 66, 1969, 1972, 163, 161, 1881, 1885, 256, 1540, 494, 1537, 502, 1806, 148, 144, 663, 663, 1399, 1403, 1923, 1928, 467, 466, 1608, 1608, 119, 114, 596, 593, 1467, 1466, 1954, 1959, 190, 1874, 75, 71, 1975, 1976, 166, 165, 1885, 1890, 266, 1540, 494, 1539, 504, 1815, 161, 157, 672, 673, 1409, 1414, 1936, 1941, 481, 479, 1621, 1622, 132, 127, 606, 601, 1477, 1475, 1968, 1972, 200, 1884, 80, 75, 1980, 1981, 170, 170, 1888, 1894, 275, 1540, 494, 1541, 506, 1824, 174, 170, 682, 684, 1418, 1424, 1949, 1954, 494, 493, 1635, 1635, 146, 140, 616, 610, 1486, 1483, 1981, 1985, 210, 1894, 85, 80, 1985, 1985, 173, 174, 1892, 1898, 284, 1540, 494, 1543, 508, 1834, 186, 183, 691, 695, 1428, 1435, 1961, 1967, 508, 506, 1648, 1649, 159, 153, 626, 618, 1496, 1492, 1994, 1998, 220, 1904, 90, 84, 1990, 1990, 155, 149, 1848, 1847, 210, 1526, 508, 1512, 504, 1740, 78, 71, 616, 607, 1333, 1331, 1842, 1846, 386, 383, 1526, 1530, 36, 32, 529, 532, 1418, 1427, 1879, 1885, 121, 1824, 31, 31, 1956, 1963, 159, 153, 1851, 1851, 220, 1526, 508, 1514, 506, 1749, 90, 84, 626, 618, 1343, 1342, 1855, 1859, 399, 397, 1540, 1543, 50, 45, 538, 540, 1428, 1435, 1892, 1898, 131, 1834, 36, 36, 1961, 1967, 162, 157, 1854, 1855, 229, 1526, 508, 1516, 508, 1758, 103, 97, 635, 629, 1352, 1352, 1868, 1872, 413, 410, 1553, 1556, 63, 58, 548, 549, 1437, 1443, 1905, 1911, 141, 1844, 42, 40, 1967, 1972, 166, 162, 1858, 1860, 238, 1526, 508, 1518, 510, 1768, 116, 110, 644, 639, 1361, 1363, 1880, 1885, 426, 424, 1567, 1570, 76, 71, 558, 557, 1447, 1452, 1918, 1924, 151, 1853, 47, 45, 1972, 1976, 169, 166, 1861, 1864, 248, 1526, 508, 1520, 512, 1777, 128, 123, 654, 650, 1371, 1373, 1893, 1898, 440, 437, 1580, 1583, 89, 84, 567, 565, 1457, 1460, 1931, 1937, 161, 1863, 52, 49, 1977, 1980, 173, 170, 1865, 1868, 257, 1526, 508, 1522, 514, 1786, 141, 136, 663, 660, 1380, 1384, 1906, 1911, 454, 451, 1594, 1597, 102, 97, 577, 574, 1467, 1469, 1945, 1950, 170, 1873, 57, 53, 1982, 1985, 176, 174, 1868, 1872, 266, 1526, 508, 1524, 516, 1796, 154, 149, 673, 671, 1390, 1395, 1918, 1924, 467, 464, 1608, 1610, 116, 110, 587, 582, 1476, 1477, 1958, 1963, 180, 1883, 62, 58, 1987, 1989, 180, 178, 1872, 1877, 276, 1526, 508, 1526, 518, 1805, 166, 162, 682, 682, 1399, 1405, 1931, 1937, 481, 477, 1621, 1624, 129, 123, 597, 591, 1486, 1485, 1971, 1976, 190, 1893, 67, 62, 1992, 1994, 183, 183, 1875, 1881, 285, 1526, 508, 1528, 520, 1814, 179, 175, 691, 692, 1408, 1416, 1944, 1950, 494, 491, 1635, 1637, 142, 136, 606, 599, 1496, 1494, 1984, 1989, 200, 1903, 73, 67, 1998, 1998, 186, 187, 1879, 1885, 294, 1526, 508, 1530, 522, 1824, 192, 187, 701, 703, 1418, 1427, 1956, 1963, 508, 504, 1648, 1650, 155, 149, 616, 607, 1505, 1502, 1998, 2002, 210, 1913, 78, 71, 2003, 2003]\n"
     ]
    },
    {
     "data": {
      "image/png": "[encoded data removed]",
      "text/plain": [
       "<Figure size 432x288 with 1 Axes>"
      ]
     },
     "metadata": {},
     "output_type": "display_data"
    }
   ],
   "source": [
    "import numpy as np\n",
    "import matplotlib.pyplot as plt\n",
    "import pickle\n",
    "# customized module\n",
    "\n",
    "import reconstruction  # g-force caller\n",
    "import MicFileTool     # io for reconstruction rst\n",
    "import IntBin          # io for binary image (reduced data)\n",
    "# simulate binary:\n",
    "# check result of parameter get from blind search:\n",
    "############################# load parameters #####################3\n",
    "# with open('geometry_blindsearch_0.p', 'rb') as input:\n",
    "#     centerL, centerJ, centerK, centerRot  = pickle.load(input)\n",
    "centerL = np.array([[4.51771003]])\n",
    "centerJ = np.array([[1017.47615371]])\n",
    "centerK = np.array([[2015.9392908]])\n",
    "centerRot = np.array([[[ 9.00008974e+01,  8.99991399e+01, -6.16813375e-04]]])\n",
    "\n",
    "S = reconstruction.Reconstructor_GPU()\n",
    "S.NDet = 1\n",
    "S.set_det_param(centerL, centerJ, centerK, centerRot,pixelJ=[0.00148/2],pixelK=[0.00148/2]) # set parameter\n",
    "S.set_Q(7)\n",
    "\n",
    "print(S.maxQ)\n",
    "S.FZFile = '/home/hedm/work/I9_test_data/Au_Mar17/DataFiles/MyFZ.dat'         # fundamental zone file\n",
    "S.set_sample('gold')\n",
    "S.energy = 65.351\n",
    "S.expdataNDigit = 6                                                       # number of digit in the binary file name\n",
    "S.create_square_mic([10,10],voxelsize=0.01,shift=[0.0,0.0,0])             # resolution of reconstruction and voxel size\n",
    "S.searchBatchSize = 6000                                                 # number of orientations search at each iteration, larger number will take longer time.\n",
    "\n",
    "\n",
    "S.sim_mic()\n",
    "\n",
    "# show results:\n",
    "# here are the outputs:\n",
    "# lenght of output is iNVoxel*iNOrientation*iNG*2*iNDet\n",
    "# print(len(S.aJH))\n",
    "# print(S.NG,S.NVoxel,2, S.NDet)\n",
    "# print(S.NG*S.NVoxel*2*S.NDet)\n",
    "# print(S.aJH) # detector location in horizental direction,pixel\n",
    "# print(S.aKH) # detector location in vertical direction,pixel\n",
    "# print(S.aOmegaH) # rotation omega, radian\n",
    "# print(S.bHitH) # if the peak hit the detector or not\n",
    "\n",
    "# extract only peaks that hit the detector:\n",
    "lJ = []\n",
    "lK = []\n",
    "lOmega = []\n",
    "lRot = []\n",
    "for i,hit in enumerate(S.bHitH):\n",
    "    if hit:\n",
    "        #print(S.aJH[i],S.aKH[i],S.aOmegaH[i],S.aiRotNH[i])\n",
    "        lJ.append(S.aJH[i])\n",
    "        lK.append(S.aKH[i])\n",
    "        lOmega.append(S.aOmegaH[i])\n",
    "print(lJ)\n",
    "#visualize result\n",
    "plt.scatter(2047-np.array(lJ),2047-np.array(lK),c='b',s=1)  \n",
    "# sparse matrix, directly plot sigal on canvas\n",
    "plt.axis('scaled')\n",
    "plt.xlim((0,2048))\n",
    "plt.ylim((0,2048))\n",
    "plt.show()"
   ]
  },
  {
   "cell_type": "code",
   "execution_count": 2,
   "metadata": {},
   "outputs": [
    {
     "data": {
      "image/png": "[encoded data removed]",
      "text/plain": [
       "<Figure size 432x288 with 1 Axes>"
      ]
     },
     "metadata": {},
     "output_type": "display_data"
    }
   ],
   "source": [
    "#visualize result\n",
    "plt.scatter(2047-np.array(lJ),2047-np.array(lK),c='b',s=1)  \n",
    "# sparse matrix, directly plot sigal on canvas\n",
    "plt.axis('scaled')\n",
    "plt.xlim((0,2048))\n",
    "plt.ylim((0,2048))\n",
    "plt.show()"
   ]
  },
  {
   "cell_type": "code",
   "execution_count": 10,
   "metadata": {},
   "outputs": [
    {
     "data": {
      "text/plain": [
       "array([156, 152,  22, ...,  10, 165, 168], dtype=int32)"
      ]
     },
     "execution_count": 10,
     "metadata": {},
     "output_type": "execute_result"
    }
   ],
   "source": [
    "idx = np.where(S.bHitH)\n",
    "S.aJH[idx]\n",
    "S.aKH[idx]\n",
    "S.aiRotNH[idx]"
   ]
  },
  {
   "cell_type": "code",
   "execution_count": 21,
   "metadata": {},
   "outputs": [
    {
     "name": "stdout",
     "output_type": "stream",
     "text": [
      "(256, 3)\n",
      "7\n",
      "(100, 3)\n",
      "(100, 3, 3)\n",
      "============start of simulation ============= \n",
      "\n",
      "nvoxel: 100, norientation:1.0\n",
      "\n",
      "============end of simulation================ \n",
      "\n",
      "SourceModule time 0.0003623040020465851 seconds.\n"
     ]
    },
    {
     "data": {
      "image/png": "[encoded data removed]",
      "text/plain": [
       "<Figure size 720x720 with 1 Axes>"
      ]
     },
     "metadata": {},
     "output_type": "display_data"
    },
    {
     "data": {
      "image/png": "[encoded data removed]",
      "text/plain": [
       "<Figure size 720x720 with 1 Axes>"
      ]
     },
     "metadata": {},
     "output_type": "display_data"
    },
    {
     "data": {
      "image/png": "[encoded data removed]",
      "text/plain": [
       "<Figure size 720x720 with 1 Axes>"
      ]
     },
     "metadata": {},
     "output_type": "display_data"
    }
   ],
   "source": [
    "# test for S.aDetIdx\n",
    "import numpy as np\n",
    "import matplotlib.pyplot as plt\n",
    "import pickle\n",
    "# customized module\n",
    "\n",
    "import reconstruction  # g-force caller\n",
    "import MicFileTool     # io for reconstruction rst\n",
    "import IntBin          # io for binary image (reduced data)\n",
    "# simulate binary:\n",
    "# check result of parameter get from blind search:\n",
    "############################# load parameters #####################3\n",
    "# with open('geometry_blindsearch_0.p', 'rb') as input:\n",
    "#     centerL, centerJ, centerK, centerRot  = pickle.load(input)\n",
    "centerL = np.array([[4,6,6]])\n",
    "centerJ = np.array([[1000,1000,1000]])\n",
    "centerK = np.array([[2000,2000,1000]])\n",
    "centerRot = np.array([[[ 9.00008974e+01,  8.99991399e+01, -6.16813375e-04],\n",
    "                      [ 9.00008974e+01,  8.99991399e+01, -6.16813375e-04],\n",
    "                      [ 9.00008974e+01,  8.99991399e+01, -6.16813375e-04]]])\n",
    "\n",
    "S = reconstruction.Reconstructor_GPU()\n",
    "S.NDet = 3\n",
    "S.set_det_param(centerL, centerJ, centerK, centerRot,pixelJ=[0.00148/2,0.00148,0.00148/2],pixelK=[0.00148/2,0.00148,0.00148/2]) # set parameter\n",
    "S.set_Q(7)\n",
    "\n",
    "print(S.maxQ)\n",
    "S.FZFile = '/home/hedm/work/I9_test_data/Au_Mar17/DataFiles/MyFZ.dat'         # fundamental zone file\n",
    "S.set_sample('gold')\n",
    "S.energy = 65.351\n",
    "S.expdataNDigit = 6                                                       # number of digit in the binary file name\n",
    "S.create_square_mic([10,10],voxelsize=0.01,shift=[0.0,0.0,0])             # resolution of reconstruction and voxel size\n",
    "S.searchBatchSize = 6000                                                 # number of orientations search at each iteration, larger number will take longer time.\n",
    "\n",
    "\n",
    "S.sim_mic()\n",
    "\n",
    "# show results:\n",
    "# here are the outputs:\n",
    "# lenght of output is iNVoxel*iNOrientation*iNG*2*iNDet\n",
    "# print(len(S.aJH))\n",
    "# print(S.NG,S.NVoxel,2, S.NDet)\n",
    "# print(S.NG*S.NVoxel*2*S.NDet)\n",
    "# print(S.aJH) # detector location in horizental direction,pixel\n",
    "# print(S.aKH) # detector location in vertical direction,pixel\n",
    "# print(S.aOmegaH) # rotation omega, radian\n",
    "# print(S.bHitH) # if the peak hit the detector or not\n",
    "\n",
    "# extract only peaks that hit the detector:\n",
    "lJ = []\n",
    "lK = []\n",
    "lOmega = []\n",
    "lRot = []\n",
    "for i,hit in enumerate(S.bHitH):\n",
    "    if hit and S.aDetIdx[i]==0:\n",
    "        #print(S.aJH[i],S.aKH[i],S.aOmegaH[i],S.aiRotNH[i])\n",
    "        lJ.append(S.aJH[i])\n",
    "        lK.append(S.aKH[i])\n",
    "        lOmega.append(S.aOmegaH[i])\n",
    "#print(lJ)\n",
    "#visualize result\n",
    "plt.scatter(2047-np.array(lJ),2047-np.array(lK),c='b',s=1)  \n",
    "# sparse matrix, directly plot sigal on canvas\n",
    "plt.axis('scaled')\n",
    "plt.xlim((0,2048))\n",
    "plt.ylim((0,2048))\n",
    "plt.show()\n",
    "\n",
    "# extract only peaks that hit the detector:\n",
    "lJ = []\n",
    "lK = []\n",
    "lOmega = []\n",
    "lRot = []\n",
    "for i,hit in enumerate(S.bHitH):\n",
    "    if hit and S.aDetIdx[i]==1:\n",
    "        #print(S.aJH[i],S.aKH[i],S.aOmegaH[i],S.aiRotNH[i])\n",
    "        lJ.append(S.aJH[i])\n",
    "        lK.append(S.aKH[i])\n",
    "        lOmega.append(S.aOmegaH[i])\n",
    "#print(lJ)\n",
    "#visualize result\n",
    "plt.scatter(2047-np.array(lJ),2047-np.array(lK),c='b',s=1)  \n",
    "# sparse matrix, directly plot sigal on canvas\n",
    "plt.axis('scaled')\n",
    "plt.xlim((0,2048))\n",
    "plt.ylim((0,2048))\n",
    "plt.show()\n",
    "\n",
    "# extract only peaks that hit the detector:\n",
    "lJ = []\n",
    "lK = []\n",
    "lOmega = []\n",
    "lRot = []\n",
    "for i,hit in enumerate(S.bHitH):\n",
    "    if hit and S.aDetIdx[i]==2:\n",
    "        #print(S.aJH[i],S.aKH[i],S.aOmegaH[i],S.aiRotNH[i])\n",
    "        lJ.append(S.aJH[i])\n",
    "        lK.append(S.aKH[i])\n",
    "        lOmega.append(S.aOmegaH[i])\n",
    "#print(lJ)\n",
    "#visualize result\n",
    "plt.scatter(2047-np.array(lJ),2047-np.array(lK),c='b',s=1)  \n",
    "# sparse matrix, directly plot sigal on canvas\n",
    "plt.axis('scaled')\n",
    "plt.xlim((0,2048))\n",
    "plt.ylim((0,2048))\n",
    "plt.show()"
   ]
  },
  {
   "cell_type": "code",
   "execution_count": 2,
   "metadata": {},
   "outputs": [
    {
     "data": {
      "image/png": "[encoded data removed]",
      "text/plain": [
       "<Figure size 432x288 with 1 Axes>"
      ]
     },
     "metadata": {},
     "output_type": "display_data"
    }
   ],
   "source": [
    "plt.scatter(2047-np.array(lJ),2047-np.array(lK),c='b',s=1)  \n",
    "# sparse matrix, directly plot sigal on canvas\n",
    "plt.axis('scaled')\n",
    "plt.xlim((0,2048))\n",
    "plt.ylim((0,2048))\n",
    "plt.show()"
   ]
  },
  {
   "cell_type": "code",
   "execution_count": 8,
   "metadata": {},
   "outputs": [],
   "source": [
    "!mkdir sim_results"
   ]
  },
  {
   "cell_type": "code",
   "execution_count": 22,
   "metadata": {},
   "outputs": [
    {
     "name": "stdout",
     "output_type": "stream",
     "text": [
      "(256, 3)\n",
      "7\n"
     ]
    },
    {
     "data": {
      "image/png": "[encoded data removed]",
      "text/plain": [
       "<Figure size 720x720 with 1 Axes>"
      ]
     },
     "metadata": {},
     "output_type": "display_data"
    },
    {
     "name": "stdout",
     "output_type": "stream",
     "text": [
      "(100, 3)\n",
      "(100, 3, 3)\n",
      "============start of simulation ============= \n",
      "\n",
      "nvoxel: 100, norientation:1.0\n",
      "\n",
      "============end of simulation================ \n",
      "\n",
      "SourceModule time 0.00033529600501060484 seconds.\n"
     ]
    },
    {
     "data": {
      "text/plain": [
       "1"
      ]
     },
     "execution_count": 22,
     "metadata": {},
     "output_type": "execute_result"
    }
   ],
   "source": [
    "# test for S.aDetIdx\n",
    "import numpy as np\n",
    "import matplotlib.pyplot as plt\n",
    "import pickle\n",
    "# customized module\n",
    "\n",
    "import reconstruction  # g-force caller\n",
    "import MicFileTool     # io for reconstruction rst\n",
    "import IntBin          # io for binary image (reduced data)\n",
    "# simulate binary:\n",
    "# check result of parameter get from blind search:\n",
    "############################# load parameters #####################3\n",
    "# with open('geometry_blindsearch_0.p', 'rb') as input:\n",
    "#     centerL, centerJ, centerK, centerRot  = pickle.load(input)\n",
    "centerL = np.array([[4,6]])\n",
    "centerJ = np.array([[1000,1000]])\n",
    "centerK = np.array([[2000,2000]])\n",
    "centerRot = np.array([[[ 9.00008974e+01,  8.99991399e+01, -6.16813375e-04],\n",
    "                      [ 9.00008974e+01,  8.99991399e+01, -6.16813375e-04]]])\n",
    "\n",
    "S = reconstruction.Reconstructor_GPU()\n",
    "S.NDet = 2\n",
    "S.set_det_param(centerL, centerJ, centerK, centerRot,pixelJ=[0.00148/2,0.00148],pixelK=[0.00148/2,0.00148]) # set parameter\n",
    "S.set_Q(7)\n",
    "\n",
    "print(S.maxQ)\n",
    "S.FZFile = '/home/hedm/work/I9_test_data/Au_Mar17/DataFiles/MyFZ.dat'         # fundamental zone file\n",
    "S.set_sample('gold')\n",
    "S.energy = 65.351\n",
    "S.expdataNDigit = 6                                                       # number of digit in the binary file name\n",
    "S.create_square_mic([10,10],voxelsize=0.01,shift=[0.0,0.0,0])             # resolution of reconstruction and voxel size\n",
    "S.searchBatchSize = 6000                                                 # number of orientations search at each iteration, larger number will take longer time.\n",
    "\n",
    "#simulated structure is here\n",
    "S.squareMicData[:,:5,3] = 10\n",
    "S.squareMicData[:,:5,4] = 10\n",
    "S.squareMicData[:,:5,3] = 5\n",
    "S.squareMicData[:,5:,3] = 5\n",
    "S.squareMicData[:,5:,4] = 90\n",
    "S.squareMicData[:,5:,3] = 20\n",
    "\n",
    "# show the structure\n",
    "MicFileTool.plot_square_mic(S.squareMicData,-1)\n",
    "\n",
    "S.sim_mic()\n",
    "\n",
    "S.save_sim_mic_binary(fNameInitial='sim_results/sim_result_')"
   ]
  },
  {
   "cell_type": "code",
   "execution_count": 23,
   "metadata": {},
   "outputs": [
    {
     "name": "stdout",
     "output_type": "stream",
     "text": [
      "(256, 3)\n",
      "7\n",
      " loading det 2/2, rotation 180/180exp data loaded, shape is: (8069, 4).\n",
      "=============start of copy exp data to gpu ===========\n",
      "start of create data on cpu ram\n",
      "=============start of copy exp data to CPU ===========\n",
      "assuming same type of detector in different distances\n",
      "=============end of copy exp data to CPU ===========\n",
      "start of creating texture memory\n",
      "end of creating texture memory\n",
      "=============end of copy exp data to gpu ===========\n",
      "==========start of reconstruction======== \n",
      "\n",
      " voxelIdx: 94, voxelLeft: 1/100.  max hitratio: 0.9756097793579102, peakcnt: 41,reconstructed euler angle [  4.98838245  10.00079419 359.99763311]3e-03]number of flood fills: 2\n",
      "start of post processing, moving grain boundaries untile stable\n",
      " Iteration: 1, max misorien: 0.0number of post process iteration: 1, number of voxel revisited: 30\n",
      " post process takes is 0.16755032539367676 seconds\n",
      "===========end of reconstruction========== \n",
      "\n",
      "SourceModule time 6.51713818359375 seconds.\n",
      "saved as npy format\n"
     ]
    }
   ],
   "source": [
    "# try to reconstruct\n",
    "# test for S.aDetIdx\n",
    "import numpy as np\n",
    "import matplotlib.pyplot as plt\n",
    "import pickle\n",
    "# customized module\n",
    "\n",
    "import reconstruction  # g-force caller\n",
    "import MicFileTool     # io for reconstruction rst\n",
    "import IntBin          # io for binary image (reduced data)\n",
    "# simulate binary:\n",
    "# check result of parameter get from blind search:\n",
    "############################# load parameters #####################3\n",
    "# with open('geometry_blindsearch_0.p', 'rb') as input:\n",
    "#     centerL, centerJ, centerK, centerRot  = pickle.load(input)\n",
    "centerL = np.array([[4,6]])\n",
    "centerJ = np.array([[1000,1000]])\n",
    "centerK = np.array([[2000,2000]])\n",
    "centerRot = np.array([[[ 9.00008974e+01,  8.99991399e+01, -6.16813375e-04],\n",
    "                      [ 9.00008974e+01,  8.99991399e+01, -6.16813375e-04]]])\n",
    "\n",
    "S = reconstruction.Reconstructor_GPU()\n",
    "S.NDet = 2\n",
    "S.set_det_param(centerL, centerJ, centerK, centerRot,pixelJ=[0.00148/2,0.00148],pixelK=[0.00148/2,0.00148]) # set parameter\n",
    "S.set_Q(7)\n",
    "\n",
    "print(S.maxQ)\n",
    "S.FZFile = '/home/hedm/work/I9_test_data/Au_Mar17/DataFiles/MyFZ.dat'         # fundamental zone file\n",
    "S.expDataInitial='sim_results/sim_result_'\n",
    "S.set_sample('gold')\n",
    "S.energy = 65.351\n",
    "S.expdataNDigit = 0                                                       # number of digit in the binary file name\n",
    "S.create_square_mic([10,10],voxelsize=0.01,shift=[0.0,0.0,0])             # resolution of reconstruction and voxel size\n",
    "S.searchBatchSize = 6000                                                 # number of orientations search at each iteration, larger number will take longer time.\n",
    "S.recon_prepare(reverseRot=False)\n",
    "S.serial_recon_multi_stage()"
   ]
  },
  {
   "cell_type": "code",
   "execution_count": 24,
   "metadata": {},
   "outputs": [
    {
     "data": {
      "image/png": "[encoded data removed]",
      "text/plain": [
       "<Figure size 720x720 with 1 Axes>"
      ]
     },
     "metadata": {},
     "output_type": "display_data"
    },
    {
     "data": {
      "image/png": "[encoded data removed]",
      "text/plain": [
       "<Figure size 720x720 with 2 Axes>"
      ]
     },
     "metadata": {},
     "output_type": "display_data"
    }
   ],
   "source": [
    "#388seconds with verbose\n",
    "plt.rcParams[\"figure.figsize\"] = (10,10)\n",
    "MicFileTool.plot_square_mic(S.squareMicData,0.6)\n",
    "MicFileTool.plot_conf_square_mic(S.squareMicData)"
   ]
  },
  {
   "cell_type": "code",
   "execution_count": 2,
   "metadata": {},
   "outputs": [
    {
     "name": "stdout",
     "output_type": "stream",
     "text": [
      "(360, 2048, 0)\n"
     ]
    }
   ],
   "source": [
    "print(S.acExpDataCpuRam.shape)"
   ]
  },
  {
   "cell_type": "code",
   "execution_count": 13,
   "metadata": {},
   "outputs": [
    {
     "name": "stdout",
     "output_type": "stream",
     "text": [
      "(256, 3)\n",
      "7\n",
      "(100, 3)\n",
      "(100, 3, 3)\n",
      "============start of simulation ============= \n",
      "\n",
      "nvoxel: 100, norientation:1.0\n",
      "\n",
      "============end of simulation================ \n",
      "\n",
      "SourceModule time 0.00027062401175498963 seconds.\n"
     ]
    },
    {
     "data": {
      "image/png": "[encoded data removed]",
      "text/plain": [
       "<Figure size 720x720 with 1 Axes>"
      ]
     },
     "metadata": {},
     "output_type": "display_data"
    },
    {
     "data": {
      "image/png": "[encoded data removed]",
      "text/plain": [
       "<Figure size 720x720 with 1 Axes>"
      ]
     },
     "metadata": {},
     "output_type": "display_data"
    }
   ],
   "source": [
    "# test for S.aDetIdx\n",
    "import numpy as np\n",
    "import matplotlib.pyplot as plt\n",
    "import pickle\n",
    "# customized module\n",
    "\n",
    "import reconstruction  # g-force caller\n",
    "import MicFileTool     # io for reconstruction rst\n",
    "import IntBin          # io for binary image (reduced data)\n",
    "# simulate binary:\n",
    "# check result of parameter get from blind search:\n",
    "############################# load parameters #####################3\n",
    "# with open('geometry_blindsearch_0.p', 'rb') as input:\n",
    "#     centerL, centerJ, centerK, centerRot  = pickle.load(input)\n",
    "centerL = np.array([[4,500]])\n",
    "centerJ = np.array([[1000,1000]])\n",
    "centerK = np.array([[2000,1000]])\n",
    "centerRot = np.array([[[ 9.00008974e+01,  8.99991399e+01, -6.16813375e-04],\n",
    "                      [ 9.00008974e+01,  8.99991399e+01, -6.16813375e-04]]])\n",
    "\n",
    "S = reconstruction.Reconstructor_GPU()\n",
    "S.NDet = 2\n",
    "S.set_det_param(centerL, centerJ, centerK, centerRot,NJ=[2048,2000],NK=[2048,2000],pixelJ=[0.00148/2,0.2],pixelK=[0.00148/2,0.2]) # set parameter\n",
    "S.set_Q(7)\n",
    "\n",
    "print(S.maxQ)\n",
    "S.FZFile = '/home/hedm/work/I9_test_data/Au_Mar17/DataFiles/MyFZ.dat'         # fundamental zone file\n",
    "S.set_sample('gold')\n",
    "S.energy = 65.351\n",
    "S.expdataNDigit = 6                                                       # number of digit in the binary file name\n",
    "S.create_square_mic([10,10],voxelsize=0.01,shift=[0.0,0.0,0])             # resolution of reconstruction and voxel size\n",
    "S.searchBatchSize = 6000                                                 # number of orientations search at each iteration, larger number will take longer time.\n",
    "#simulated structure is here\n",
    "S.squareMicData[:,:5,3] = 10\n",
    "S.squareMicData[:,:5,4] = 10\n",
    "S.squareMicData[:,:5,3] = 5\n",
    "S.squareMicData[:,5:,3] = 5\n",
    "S.squareMicData[:,5:,4] = 90\n",
    "S.squareMicData[:,5:,3] = 20\n",
    "\n",
    "S.sim_mic()\n",
    "\n",
    "S.save_sim_mic_binary(fNameInitial='sim_results/sim_result_')\n",
    "# show results:\n",
    "# here are the outputs:\n",
    "# lenght of output is iNVoxel*iNOrientation*iNG*2*iNDet\n",
    "# print(len(S.aJH))\n",
    "# print(S.NG,S.NVoxel,2, S.NDet)\n",
    "# print(S.NG*S.NVoxel*2*S.NDet)\n",
    "# print(S.aJH) # detector location in horizental direction,pixel\n",
    "# print(S.aKH) # detector location in vertical direction,pixel\n",
    "# print(S.aOmegaH) # rotation omega, radian\n",
    "# print(S.bHitH) # if the peak hit the detector or not\n",
    "\n",
    "# extract only peaks that hit the detector:\n",
    "lJ = []\n",
    "lK = []\n",
    "lOmega = []\n",
    "lRot = []\n",
    "for i,hit in enumerate(S.bHitH):\n",
    "    if hit and S.aDetIdx[i]==0:\n",
    "        #print(S.aJH[i],S.aKH[i],S.aOmegaH[i],S.aiRotNH[i])\n",
    "        lJ.append(S.aJH[i])\n",
    "        lK.append(S.aKH[i])\n",
    "        lOmega.append(S.aOmegaH[i])\n",
    "#print(lJ)\n",
    "#visualize result\n",
    "plt.scatter(2047-np.array(lJ),2047-np.array(lK),c='b',s=1)  \n",
    "# sparse matrix, directly plot sigal on canvas\n",
    "plt.axis('scaled')\n",
    "plt.xlim((0,2048))\n",
    "plt.ylim((0,2048))\n",
    "plt.show()\n",
    "\n",
    "# extract only peaks that hit the detector:\n",
    "lJ = []\n",
    "lK = []\n",
    "lOmega = []\n",
    "lRot = []\n",
    "for i,hit in enumerate(S.bHitH):\n",
    "    if hit and S.aDetIdx[i]==1:\n",
    "        #print(S.aJH[i],S.aKH[i],S.aOmegaH[i],S.aiRotNH[i])\n",
    "        lJ.append(S.aJH[i])\n",
    "        lK.append(S.aKH[i])\n",
    "        lOmega.append(S.aOmegaH[i])\n",
    "#print(lJ)\n",
    "#visualize result\n",
    "plt.scatter(2047-np.array(lJ),2047-np.array(lK),c='b',s=1)  \n",
    "# sparse matrix, directly plot sigal on canvas\n",
    "plt.axis('scaled')\n",
    "plt.xlim((0,2048))\n",
    "plt.ylim((0,2048))\n",
    "plt.show()\n"
   ]
  },
  {
   "cell_type": "code",
   "execution_count": 14,
   "metadata": {},
   "outputs": [
    {
     "name": "stdout",
     "output_type": "stream",
     "text": [
      "(256, 3)\n",
      "7\n",
      " loading det 2/2, rotation 180/180exp data loaded, shape is: (4064, 4).\n",
      "=============start of copy exp data to gpu ===========\n",
      "start of create data on cpu ram\n",
      "=============start of copy exp data to CPU ===========\n",
      "assuming same type of detector in different distances\n",
      "=============end of copy exp data to CPU ===========\n",
      "start of creating texture memory\n",
      "end of creating texture memory\n",
      "=============end of copy exp data to gpu ===========\n",
      "==========start of reconstruction======== \n",
      "\n",
      " voxelIdx: 94, voxelLeft: 1/100.  max hitratio: 0.9756097793579102, peakcnt: 41,reconstructed euler angle [  4.96122772   9.99955617 359.99673153]2e-03]]number of flood fills: 2\n",
      "start of post processing, moving grain boundaries untile stable\n",
      " Iteration: 1, max misorien: 0.0number of post process iteration: 1, number of voxel revisited: 30\n",
      " post process takes is 0.1664893627166748 seconds\n",
      "===========end of reconstruction========== \n",
      "\n",
      "SourceModule time 5.7463793945312505 seconds.\n",
      "saved as npy format\n"
     ]
    }
   ],
   "source": [
    "# try to reconstruct\n",
    "# test for S.aDetIdx\n",
    "import numpy as np\n",
    "import matplotlib.pyplot as plt\n",
    "import pickle\n",
    "# customized module\n",
    "\n",
    "import reconstruction  # g-force caller\n",
    "import MicFileTool     # io for reconstruction rst\n",
    "import IntBin          # io for binary image (reduced data)\n",
    "# simulate binary:\n",
    "# check result of parameter get from blind search:\n",
    "############################# load parameters #####################3\n",
    "# with open('geometry_blindsearch_0.p', 'rb') as input:\n",
    "#     centerL, centerJ, centerK, centerRot  = pickle.load(input)\n",
    "centerL = np.array([[4,500]])\n",
    "centerJ = np.array([[1000,1000]])\n",
    "centerK = np.array([[2000,1000]])\n",
    "centerRot = np.array([[[ 9.00008974e+01,  8.99991399e+01, -6.16813375e-04],\n",
    "                      [ 9.00008974e+01,  8.99991399e+01, -6.16813375e-04]]])\n",
    "NJ=[2048,2000]\n",
    "NK=[2048,2000]\n",
    "pixelJ=[0.00148/2,0.2]\n",
    "pixelK=[0.00148/2,0.2]\n",
    "S = reconstruction.Reconstructor_GPU()\n",
    "S.NDet = 2\n",
    "S.set_det_param(centerL, centerJ, centerK, centerRot,NJ=NJ, NK=NK, pixelJ=pixelJ, pixelK=pixelK) # set parameter\n",
    "S.set_Q(7)\n",
    "\n",
    "print(S.maxQ)\n",
    "S.FZFile = '/home/hedm/work/I9_test_data/Au_Mar17/DataFiles/MyFZ.dat'         # fundamental zone file\n",
    "S.expDataInitial='sim_results/sim_result_'\n",
    "S.set_sample('gold')\n",
    "S.energy = 65.351\n",
    "S.expdataNDigit = 0                                                       # number of digit in the binary file name\n",
    "S.create_square_mic([10,10],voxelsize=0.01,shift=[0.0,0.0,0])             # resolution of reconstruction and voxel size\n",
    "S.searchBatchSize = 6000                                                 # number of orientations search at each iteration, larger number will take longer time.\n",
    "S.recon_prepare(reverseRot=False)\n",
    "S.serial_recon_multi_stage()"
   ]
  },
  {
   "cell_type": "code",
   "execution_count": 15,
   "metadata": {},
   "outputs": [
    {
     "data": {
      "image/png": "[encoded data removed]",
      "text/plain": [
       "<Figure size 720x720 with 1 Axes>"
      ]
     },
     "metadata": {},
     "output_type": "display_data"
    },
    {
     "data": {
      "image/png": "[encoded data removed]",
      "text/plain": [
       "<Figure size 720x720 with 2 Axes>"
      ]
     },
     "metadata": {},
     "output_type": "display_data"
    }
   ],
   "source": [
    "#388seconds with verbose\n",
    "plt.rcParams[\"figure.figsize\"] = (10,10)\n",
    "MicFileTool.plot_square_mic(S.squareMicData,0.6)\n",
    "MicFileTool.plot_conf_square_mic(S.squareMicData)"
   ]
  },
  {
   "cell_type": "markdown",
   "metadata": {},
   "source": [
    "# input gold data and simulate:"
   ]
  },
  {
   "cell_type": "code",
   "execution_count": null,
   "metadata": {},
   "outputs": [],
   "source": [
    "import numpy as np\n",
    "import matplotlib.pyplot as plt\n",
    "import pickle\n",
    "# customized module\n",
    "\n",
    "import reconstruction  # g-force caller\n",
    "import MicFileTool     # io for reconstruction rst\n",
    "import IntBin          # io for binary image (reduced data)\n",
    "# simulate binary:\n",
    "# check result of parameter get from blind search:\n",
    "############################# load parameters #####################3\n",
    "# with open('geometry_blindsearch_0.p', 'rb') as input:\n",
    "#     centerL, centerJ, centerK, centerRot  = pickle.load(input)\n",
    "centerL = np.array([[4,500]])\n",
    "centerJ = np.array([[1000,1000]])\n",
    "centerK = np.array([[2000,1000]])\n",
    "centerRot = np.array([[[ 9.00008974e+01,  8.99991399e+01, -6.16813375e-04],\n",
    "                      [ 9.00008974e+01,  8.99991399e+01, -6.16813375e-04]]])\n",
    "\n",
    "S = reconstruction.Reconstructor_GPU()\n",
    "S.NDet = 2\n",
    "S.set_det_param(centerL, centerJ, centerK, centerRot,NJ=[2048,2000],NK=[2048,2000],pixelJ=[0.00148/2,0.2],pixelK=[0.00148/2,0.2]) # set parameter\n",
    "S.set_Q(7)\n",
    "\n",
    "print(S.maxQ)\n",
    "S.FZFile = '/home/hedm/work/I9_test_data/Au_Mar17/DataFiles/MyFZ.dat'         # fundamental zone file\n",
    "S.set_sample('gold')\n",
    "S.energy = 65.351\n",
    "S.expdataNDigit = 6                                                       # number of digit in the binary file name\n",
    "S.create_square_mic([10,10],voxelsize=0.01,shift=[0.0,0.0,0])             # resolution of reconstruction and voxel size\n",
    "S.searchBatchSize = 6000                                                 # number of orientations search at each iteration, larger number will take longer time.\n",
    "#simulated structure is here\n",
    "S.squareMicData[:,:5,3] = 10\n",
    "S.squareMicData[:,:5,4] = 10\n",
    "S.squareMicData[:,:5,3] = 5\n",
    "S.squareMicData[:,5:,3] = 5\n",
    "S.squareMicData[:,5:,4] = 90\n",
    "S.squareMicData[:,5:,3] = 20\n",
    "\n",
    "S.sim_mic()\n",
    "\n",
    "S.save_sim_mic_binary(fNameInitial='sim_results/sim_result_')"
   ]
  }
 ],
 "metadata": {
  "kernelspec": {
   "display_name": "Python 3",
   "language": "python",
   "name": "python3"
  },
  "language_info": {
   "codemirror_mode": {
    "name": "ipython",
    "version": 3
   },
   "file_extension": ".py",
   "mimetype": "text/x-python",
   "name": "python",
   "nbconvert_exporter": "python",
   "pygments_lexer": "ipython3",
   "version": "3.6.8"
  }
 },
 "nbformat": 4,
 "nbformat_minor": 2
}
